{
 "cells": [
  {
   "cell_type": "code",
   "execution_count": 4,
   "id": "17be34a1",
   "metadata": {},
   "outputs": [],
   "source": [
    "import numpy as np\n",
    "import matplotlib.pyplot as plt"
   ]
  },
  {
   "cell_type": "code",
   "execution_count": 5,
   "id": "ea3496c6",
   "metadata": {},
   "outputs": [],
   "source": [
    "data = np.genfromtxt('https://raw.githubusercontent.com/nttuan8/DL_Tutorial/master/L2/dataset.csv',\n",
    "                     delimiter=',', skip_header=1, encoding='utf-8')"
   ]
  },
  {
   "cell_type": "code",
   "execution_count": 19,
   "id": "1a73c5e1",
   "metadata": {},
   "outputs": [
    {
     "data": {
      "text/plain": [
       "<matplotlib.collections.PathCollection at 0x28ad10cc3a0>"
      ]
     },
     "execution_count": 19,
     "metadata": {},
     "output_type": "execute_result"
    },
    {
     "data": {
      "image/png": "[encoded data removed]",
      "text/plain": [
       "<Figure size 432x288 with 1 Axes>"
      ]
     },
     "metadata": {
      "needs_background": "light"
     },
     "output_type": "display_data"
    }
   ],
   "source": [
    "X = data[:,:2]\n",
    "y = data[:, -1]\n",
    "plt.scatter(X[:,0], X[:,1], c=y)"
   ]
  },
  {
   "cell_type": "code",
   "execution_count": 20,
   "id": "3cc9f812",
   "metadata": {},
   "outputs": [
    {
     "data": {
      "text/plain": [
       "0.5"
      ]
     },
     "execution_count": 20,
     "metadata": {},
     "output_type": "execute_result"
    }
   ],
   "source": [
    "def calculate_gini(n1, n2):\n",
    "    if n1+n2 == 0: \n",
    "        return 1\n",
    "    else: \n",
    "        return 1 - (n1/(n1+n2))**2 - (n2/(n1+n2))**2\n",
    "        \n",
    "gini1 = calculate_gini(y.shape[0] - np.sum(y), np.sum(y))\n",
    "gini1"
   ]
  },
  {
   "cell_type": "code",
   "execution_count": 21,
   "id": "7a5f3947",
   "metadata": {},
   "outputs": [
    {
     "data": {
      "text/plain": [
       "[8.5, 0.9]"
      ]
     },
     "execution_count": 21,
     "metadata": {},
     "output_type": "execute_result"
    }
   ],
   "source": [
    "G = {}\n",
    "list_of_keys = []\n",
    "for var in range(X.shape[1]):\n",
    "    sorted = np.unique(np.sort(X[:, var]))\n",
    "    for i in np.convolve(sorted, np.ones(2), 'valid') / 2:\n",
    "\n",
    "        indx_below = np.where(X[:, var] <= i)\n",
    "        y_below = y[indx_below]\n",
    "        gini2 = calculate_gini(y_below.shape[0] - sum(y_below), sum(y_below))\n",
    "\n",
    "        indx_above = np.where(X[:, var] > i)\n",
    "        y_above = y[indx_above]\n",
    "        gini3 = calculate_gini(y_above.shape[0] - sum(y_above), sum(y_above))\n",
    "\n",
    "        gini_index = gini1 - gini2 * y_below.shape[0] / y.shape[0] - gini3 * y_above.shape[0] / y.shape[0]\n",
    "      \n",
    "        G[i] = gini_index\n",
    "    gini_index_max = max(G.items(), key=lambda x: x[1])\n",
    "    for key, value in G.items():\n",
    "        if value == gini_index_max[1]:\n",
    "            list_of_keys.append(key)\n",
    "list_of_keys"
   ]
  },
  {
   "cell_type": "code",
   "execution_count": 22,
   "id": "9377d278",
   "metadata": {},
   "outputs": [
    {
     "data": {
      "text/plain": [
       "[<matplotlib.lines.Line2D at 0x28ad112e670>]"
      ]
     },
     "execution_count": 22,
     "metadata": {},
     "output_type": "execute_result"
    },
    {
     "data": {
      "image/png": "[encoded data removed]",
      "text/plain": [
       "<Figure size 432x288 with 1 Axes>"
      ]
     },
     "metadata": {
      "needs_background": "light"
     },
     "output_type": "display_data"
    }
   ],
   "source": [
    "plt.scatter(X[:,0], X[:,1], c=y)\n",
    "plt.plot([list_of_keys[0], list_of_keys[0]],[0, max(X[:,1])])\n",
    "plt.plot([0,  max(X[:,0])],[list_of_keys[1],list_of_keys[1]])"
   ]
  },
  {
   "cell_type": "code",
   "execution_count": 23,
   "id": "204007ca",
   "metadata": {},
   "outputs": [
    {
     "data": {
      "text/plain": [
       "10.0"
      ]
     },
     "execution_count": 23,
     "metadata": {},
     "output_type": "execute_result"
    }
   ],
   "source": [
    "max(X[:,0])"
   ]
  },
  {
   "cell_type": "code",
   "execution_count": null,
   "id": "e9773373",
   "metadata": {},
   "outputs": [],
   "source": []
  }
 ],
 "metadata": {
  "kernelspec": {
   "display_name": "Python 3",
   "language": "python",
   "name": "python3"
  },
  "language_info": {
   "codemirror_mode": {
    "name": "ipython",
    "version": 3
   },
   "file_extension": ".py",
   "mimetype": "text/x-python",
   "name": "python",
   "nbconvert_exporter": "python",
   "pygments_lexer": "ipython3",
   "version": "3.8.8"
  }
 },
 "nbformat": 4,
 "nbformat_minor": 5
}
